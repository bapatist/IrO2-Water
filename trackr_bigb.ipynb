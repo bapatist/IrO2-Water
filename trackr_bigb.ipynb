{
 "cells": [
  {
   "cell_type": "code",
   "execution_count": 1,
   "id": "f7abe862-6675-4eff-9c77-55d71cefe9b4",
   "metadata": {},
   "outputs": [],
   "source": [
    "from pathlib import Path\n",
    "from ase.io import read, write\n",
    "import ovito\n",
    "import numpy as np\n",
    "import pandas as pd\n",
    "#from counter import cus_site, bridge_site\n",
    "import matplotlib.pyplot as plt\n",
    "import matplotlib\n",
    "font = {'size'   : 20}\n",
    "matplotlib.rc('text', usetex=True)\n",
    "matplotlib.rc('font', **font)"
   ]
  },
  {
   "cell_type": "code",
   "execution_count": 2,
   "id": "07a8db13",
   "metadata": {},
   "outputs": [],
   "source": [
    "sim_index = 0\n",
    "path = Path(f\"/work/surf/iter3/bigB_sims/random_comps/sim_{sim_index}\")\n",
    "md = read(path/'newmd.xyz', \":\")\n",
    "init_struc = read(path/'mix.xyz')"
   ]
  },
  {
   "attachments": {},
   "cell_type": "markdown",
   "id": "0b2aedd2",
   "metadata": {},
   "source": [
    "INIT STRUC"
   ]
  },
  {
   "cell_type": "code",
   "execution_count": 3,
   "id": "68773af9",
   "metadata": {},
   "outputs": [
    {
     "data": {
      "application/vnd.jupyter.widget-view+json": {
       "model_id": "0169f0dc29a54f2ea742f011acac1b93",
       "version_major": 2,
       "version_minor": 0
      },
      "text/plain": [
       "JupyterViewportWidget(camera_params={'fov': 39.497759400472276, 'perspective': False, 'matrix': [[0.0, -0.0, -…"
      ]
     },
     "metadata": {},
     "output_type": "display_data"
    }
   ],
   "source": [
    "from ovito.vis import DataVis\n",
    "from ovito.pipeline import Pipeline, StaticSource\n",
    "from ovito.io.ase import ase_to_ovito\n",
    "from ovito.vis import Viewport\n",
    "ovi_data = ase_to_ovito(init_struc)\n",
    "pipeline = Pipeline(source = StaticSource(data = ovi_data))\n",
    "pipeline.add_to_scene()\n",
    "vp = Viewport(type = Viewport.Type.Ortho, camera_dir = (1, 0, 0))\n",
    "vp.zoom_all()\n",
    "display(vp)"
   ]
  },
  {
   "cell_type": "code",
   "execution_count": 4,
   "id": "0234cd49",
   "metadata": {},
   "outputs": [],
   "source": [
    "atoms = init_struc\n",
    "max_Ir_Z = max([atom.z for atom in atoms if atom.symbol == 'Ir'])\n",
    "#These Iridiums are expected to stay put\n",
    "Ir_bri = np.array([atom.index for atom in atoms if (atom.symbol == 'Ir') and (atom.z == max_Ir_Z)])\n",
    "Ir_cus = np.array([atom.index for atom in atoms if (atom.symbol == 'Ir' and (np.round(max_Ir_Z - atom.z, 4) == 0.0953) and atom.index not in Ir_bri)])\n",
    "\n",
    "#Everything else can be dynamic and is counted in a general way\n",
    "O_cus = np.array([atom.index for atom in atoms if (atom.symbol == 'O' and atom.z > max_Ir_Z and min(atoms.get_distances(atom.index, Ir_cus, mic=True))<2.3 and min(atoms.get_distances(atom.index, Ir_bri, mic=True))>2.3)])"
   ]
  },
  {
   "cell_type": "code",
   "execution_count": 5,
   "id": "300f15b5",
   "metadata": {},
   "outputs": [
    {
     "data": {
      "text/html": [
       "<div>\n",
       "<style scoped>\n",
       "    .dataframe tbody tr th:only-of-type {\n",
       "        vertical-align: middle;\n",
       "    }\n",
       "\n",
       "    .dataframe tbody tr th {\n",
       "        vertical-align: top;\n",
       "    }\n",
       "\n",
       "    .dataframe thead th {\n",
       "        text-align: right;\n",
       "    }\n",
       "</style>\n",
       "<table border=\"1\" class=\"dataframe\">\n",
       "  <thead>\n",
       "    <tr style=\"text-align: right;\">\n",
       "      <th></th>\n",
       "      <th>Time</th>\n",
       "      <th>OH2</th>\n",
       "      <th>OH</th>\n",
       "      <th>O</th>\n",
       "      <th>OO</th>\n",
       "      <th>All</th>\n",
       "    </tr>\n",
       "  </thead>\n",
       "  <tbody>\n",
       "    <tr>\n",
       "      <th>0</th>\n",
       "      <td>0.0</td>\n",
       "      <td>7</td>\n",
       "      <td>3</td>\n",
       "      <td>5</td>\n",
       "      <td>9</td>\n",
       "      <td>24</td>\n",
       "    </tr>\n",
       "    <tr>\n",
       "      <th>0</th>\n",
       "      <td>10.0</td>\n",
       "      <td>9</td>\n",
       "      <td>5</td>\n",
       "      <td>1</td>\n",
       "      <td>9</td>\n",
       "      <td>24</td>\n",
       "    </tr>\n",
       "    <tr>\n",
       "      <th>0</th>\n",
       "      <td>20.0</td>\n",
       "      <td>9</td>\n",
       "      <td>5</td>\n",
       "      <td>1</td>\n",
       "      <td>9</td>\n",
       "      <td>24</td>\n",
       "    </tr>\n",
       "    <tr>\n",
       "      <th>0</th>\n",
       "      <td>30.0</td>\n",
       "      <td>10</td>\n",
       "      <td>4</td>\n",
       "      <td>2</td>\n",
       "      <td>8</td>\n",
       "      <td>24</td>\n",
       "    </tr>\n",
       "    <tr>\n",
       "      <th>0</th>\n",
       "      <td>40.0</td>\n",
       "      <td>8</td>\n",
       "      <td>6</td>\n",
       "      <td>2</td>\n",
       "      <td>8</td>\n",
       "      <td>24</td>\n",
       "    </tr>\n",
       "    <tr>\n",
       "      <th>0</th>\n",
       "      <td>50.0</td>\n",
       "      <td>11</td>\n",
       "      <td>3</td>\n",
       "      <td>2</td>\n",
       "      <td>8</td>\n",
       "      <td>24</td>\n",
       "    </tr>\n",
       "    <tr>\n",
       "      <th>0</th>\n",
       "      <td>60.0</td>\n",
       "      <td>11</td>\n",
       "      <td>3</td>\n",
       "      <td>2</td>\n",
       "      <td>8</td>\n",
       "      <td>24</td>\n",
       "    </tr>\n",
       "    <tr>\n",
       "      <th>0</th>\n",
       "      <td>70.0</td>\n",
       "      <td>10</td>\n",
       "      <td>4</td>\n",
       "      <td>2</td>\n",
       "      <td>8</td>\n",
       "      <td>24</td>\n",
       "    </tr>\n",
       "    <tr>\n",
       "      <th>0</th>\n",
       "      <td>80.0</td>\n",
       "      <td>12</td>\n",
       "      <td>2</td>\n",
       "      <td>2</td>\n",
       "      <td>8</td>\n",
       "      <td>24</td>\n",
       "    </tr>\n",
       "    <tr>\n",
       "      <th>0</th>\n",
       "      <td>90.0</td>\n",
       "      <td>12</td>\n",
       "      <td>2</td>\n",
       "      <td>2</td>\n",
       "      <td>8</td>\n",
       "      <td>24</td>\n",
       "    </tr>\n",
       "    <tr>\n",
       "      <th>0</th>\n",
       "      <td>100.0</td>\n",
       "      <td>11</td>\n",
       "      <td>4</td>\n",
       "      <td>1</td>\n",
       "      <td>8</td>\n",
       "      <td>24</td>\n",
       "    </tr>\n",
       "    <tr>\n",
       "      <th>0</th>\n",
       "      <td>110.0</td>\n",
       "      <td>13</td>\n",
       "      <td>1</td>\n",
       "      <td>2</td>\n",
       "      <td>8</td>\n",
       "      <td>24</td>\n",
       "    </tr>\n",
       "    <tr>\n",
       "      <th>0</th>\n",
       "      <td>120.0</td>\n",
       "      <td>12</td>\n",
       "      <td>2</td>\n",
       "      <td>2</td>\n",
       "      <td>8</td>\n",
       "      <td>24</td>\n",
       "    </tr>\n",
       "    <tr>\n",
       "      <th>0</th>\n",
       "      <td>130.0</td>\n",
       "      <td>12</td>\n",
       "      <td>3</td>\n",
       "      <td>1</td>\n",
       "      <td>8</td>\n",
       "      <td>24</td>\n",
       "    </tr>\n",
       "    <tr>\n",
       "      <th>0</th>\n",
       "      <td>140.0</td>\n",
       "      <td>12</td>\n",
       "      <td>3</td>\n",
       "      <td>1</td>\n",
       "      <td>8</td>\n",
       "      <td>24</td>\n",
       "    </tr>\n",
       "    <tr>\n",
       "      <th>0</th>\n",
       "      <td>150.0</td>\n",
       "      <td>12</td>\n",
       "      <td>4</td>\n",
       "      <td>0</td>\n",
       "      <td>8</td>\n",
       "      <td>24</td>\n",
       "    </tr>\n",
       "    <tr>\n",
       "      <th>0</th>\n",
       "      <td>160.0</td>\n",
       "      <td>10</td>\n",
       "      <td>6</td>\n",
       "      <td>0</td>\n",
       "      <td>8</td>\n",
       "      <td>24</td>\n",
       "    </tr>\n",
       "    <tr>\n",
       "      <th>0</th>\n",
       "      <td>170.0</td>\n",
       "      <td>13</td>\n",
       "      <td>3</td>\n",
       "      <td>0</td>\n",
       "      <td>8</td>\n",
       "      <td>24</td>\n",
       "    </tr>\n",
       "    <tr>\n",
       "      <th>0</th>\n",
       "      <td>180.0</td>\n",
       "      <td>11</td>\n",
       "      <td>5</td>\n",
       "      <td>0</td>\n",
       "      <td>8</td>\n",
       "      <td>24</td>\n",
       "    </tr>\n",
       "    <tr>\n",
       "      <th>0</th>\n",
       "      <td>190.0</td>\n",
       "      <td>13</td>\n",
       "      <td>3</td>\n",
       "      <td>0</td>\n",
       "      <td>8</td>\n",
       "      <td>24</td>\n",
       "    </tr>\n",
       "    <tr>\n",
       "      <th>0</th>\n",
       "      <td>200.0</td>\n",
       "      <td>13</td>\n",
       "      <td>3</td>\n",
       "      <td>0</td>\n",
       "      <td>8</td>\n",
       "      <td>24</td>\n",
       "    </tr>\n",
       "  </tbody>\n",
       "</table>\n",
       "</div>"
      ],
      "text/plain": [
       "    Time  OH2  OH  O  OO  All\n",
       "0    0.0    7   3  5   9   24\n",
       "0   10.0    9   5  1   9   24\n",
       "0   20.0    9   5  1   9   24\n",
       "0   30.0   10   4  2   8   24\n",
       "0   40.0    8   6  2   8   24\n",
       "0   50.0   11   3  2   8   24\n",
       "0   60.0   11   3  2   8   24\n",
       "0   70.0   10   4  2   8   24\n",
       "0   80.0   12   2  2   8   24\n",
       "0   90.0   12   2  2   8   24\n",
       "0  100.0   11   4  1   8   24\n",
       "0  110.0   13   1  2   8   24\n",
       "0  120.0   12   2  2   8   24\n",
       "0  130.0   12   3  1   8   24\n",
       "0  140.0   12   3  1   8   24\n",
       "0  150.0   12   4  0   8   24\n",
       "0  160.0   10   6  0   8   24\n",
       "0  170.0   13   3  0   8   24\n",
       "0  180.0   11   5  0   8   24\n",
       "0  190.0   13   3  0   8   24\n",
       "0  200.0   13   3  0   8   24"
      ]
     },
     "execution_count": 5,
     "metadata": {},
     "output_type": "execute_result"
    }
   ],
   "source": [
    "from composition import count_bridge, count_cus\n",
    "bri_df, cus_df = [], []\n",
    "for atoms in md[::100]:\n",
    "    time, O_bri, bri_O_H2, bri_O_H, bri_O_c =  count_bridge(atoms, Ir_bri=Ir_bri, Ir_cus=Ir_cus, max_Ir_Z=max_Ir_Z)\n",
    "    append_this_bri = pd.DataFrame([{'Time': time, 'OH2': len(bri_O_H2), 'OH': len(bri_O_H), 'O': len(bri_O_c), 'All': len(O_bri)}])\n",
    "    bri_df.append(append_this_bri)\n",
    "    time, O_cus, cus_O_H2, cus_O_H, cus_O_c, cus_O_O =  count_cus(atoms, Ir_bri=Ir_bri, Ir_cus=Ir_cus, max_Ir_Z=max_Ir_Z)\n",
    "    append_this_cus = pd.DataFrame([{'Time': time, 'OH2': len(cus_O_H2), 'OH': len(cus_O_H), 'O': len(cus_O_c), 'OO': len(cus_O_O), 'All': len(O_cus)}])\n",
    "    cus_df.append(append_this_cus)\n",
    "bri_df = pd.concat(bri_df)\n",
    "cus_df = pd.concat(cus_df)"
   ]
  },
  {
   "attachments": {},
   "cell_type": "markdown",
   "id": "3798e6c6",
   "metadata": {},
   "source": [
    "JOINT PLOTS"
   ]
  },
  {
   "cell_type": "code",
   "execution_count": 56,
   "id": "a86c627b",
   "metadata": {},
   "outputs": [
    {
     "data": {
      "image/png": "[encoded data removed]",
      "text/plain": [
       "<Figure size 1200x500 with 2 Axes>"
      ]
     },
     "metadata": {},
     "output_type": "display_data"
    }
   ],
   "source": [
    "bar_width = 5.0\n",
    "fig = plt.figure()\n",
    "fig.set_size_inches(12,5)\n",
    "gs = fig.add_gridspec(1, 2, hspace=0, wspace=0.1)\n",
    "(ax1, ax2) = gs.subplots(sharex='col', sharey='row')\n",
    "\n",
    "ax1.bar(bri_df['Time'], bri_df['OH'],  width=bar_width, label = '$OH$', bottom=bri_df['OH2'], color = 'orange')\n",
    "ax1.bar(bri_df['Time'], bri_df['O'],   width=bar_width, label = '$O$', bottom=bri_df['OH2'] + bri_df['OH'], color = 'red')\n",
    "ax1.set_title(f\"$Bridge-site$\")\n",
    "ax2.bar(cus_df['Time'], cus_df['OH2'], width=bar_width, label = '$OH_{2}$', color = 'green')\n",
    "ax2.bar(cus_df['Time'], cus_df['OH'],  width=bar_width, label = '$OH$', bottom=cus_df['OH2'], color = 'orange')\n",
    "ax2.bar(cus_df['Time'], cus_df['O'],   width=bar_width, label = '$O$',  bottom=cus_df['OH2'] + cus_df['OH'], color = 'red')\n",
    "ax2.bar(cus_df['Time'], cus_df['OO'],  width=bar_width, label = '$OOH$', bottom=cus_df['OH2'] + cus_df['OH'] + cus_df['O'], color = 'blue')\n",
    "ax2.set_title(f\"$Cus-site$\")\n",
    "\n",
    "for ax in [ax1,ax2]:\n",
    "    ax.set_yticks(range(0,25,4))\n",
    "    ax.grid(axis='y')\n",
    "    ax.set(xlabel='Time in ps', ylabel=f\"Coverage{chr(37)}\")\n",
    "    ax.label_outer()\n",
    "leg = plt.legend(loc='lower center',prop={'size': 18}, bbox_to_anchor=(-0.05,-0.35), ncol=4)\n",
    "leg._legend_box.align = \"left\"\n",
    "#plt.savefig(f\"./bri_bar_{sim_index}.png\", dpi=300, bbox_inches='tight')"
   ]
  },
  {
   "attachments": {},
   "cell_type": "markdown",
   "id": "f33d4d94",
   "metadata": {},
   "source": [
    "Individual plot"
   ]
  },
  {
   "cell_type": "code",
   "execution_count": 6,
   "id": "eb49a62f",
   "metadata": {},
   "outputs": [
    {
     "data": {
      "text/plain": [
       "<Figure size 640x480 with 0 Axes>"
      ]
     },
     "metadata": {},
     "output_type": "display_data"
    }
   ],
   "source": [
    "plot_bars  = True\n",
    "plot_lines = False\n",
    "bar_width = 5.0\n",
    "fig = matplotlib.pyplot.gcf()"
   ]
  },
  {
   "cell_type": "code",
   "execution_count": 9,
   "id": "ff0c91c5",
   "metadata": {},
   "outputs": [
    {
     "data": {
      "image/png": "[encoded data removed]",
      "text/plain": [
       "<Figure size 640x480 with 1 Axes>"
      ]
     },
     "metadata": {},
     "output_type": "display_data"
    }
   ],
   "source": [
    "if plot_lines:\n",
    "    #plt.plot(bri_df['Time'], bri_df['OH2'], label = '$OH_{2}$', color = 'green',  ls='--', alpha=0.5)#, marker=\"o\", markersize=10, markeredgecolor=\"black\", markerfacecolor=\"pink\")\n",
    "    plt.plot(bri_df['Time'], bri_df['OH'], label = '$OH$',      color = 'orange', ls='--', alpha=1.0, linewidth=2.0)#, marker=\"o\", markersize=10, markeredgecolor=\"black\", markerfacecolor=\"red\")\n",
    "    plt.plot(bri_df['Time'], bri_df['O'],  label = '$O$',       color = 'red',    ls='--', alpha=0.5)#,marker=\"o\", markersize=10, markeredgecolor=\"black\", markerfacecolor=\"violet\")\n",
    "\n",
    "if plot_bars:\n",
    "    #plt.bar(bri_df['Time'], bri_df['OH2'], width=bar_width, label = '$OH_{2}$', color = 'green')#, marker=\"o\", markersize=10, markeredgecolor=\"black\", markerfacecolor=\"pink\")\n",
    "    plt.bar(bri_df['Time'], bri_df['OH'],  width=bar_width, label = '$OH$', bottom=bri_df['OH2'], color = 'orange')#, marker=\"o\", markersize=10, markeredgecolor=\"black\", markerfacecolor=\"red\")\n",
    "    plt.bar(bri_df['Time'], bri_df['O'],   width=bar_width, label = '$O$', bottom=bri_df['OH2'] + bri_df['OH'], color = 'red')#,marker=\"o\", markersize=10, markeredgecolor=\"black\", markerfacecolor=\"violet\")\n",
    "\n",
    "plt.yticks(range(0,26,2))\n",
    "plt.grid(axis='y')\n",
    "plt.xlabel(\"Time in ps\")\n",
    "plt.ylabel(f\"Coverage{chr(37)}\")\n",
    "plt.title(f\"$Bridge-site$\")\n",
    "leg = plt.legend(loc='center left', prop={'size': 20}, bbox_to_anchor=(1, 0.5) )\n",
    "leg._legend_box.align = \"left\"\n",
    "if plot_bars:\n",
    "    plt.savefig(f\"./bri_bar_{sim_index}.png\", dpi=300, bbox_inches='tight')\n",
    "if plot_lines:\n",
    "    plt.savefig(f\"./bri_lines_{sim_index}.png\", dpi=300, bbox_inches='tight')"
   ]
  },
  {
   "cell_type": "code",
   "execution_count": 13,
   "id": "c1dfcf6b",
   "metadata": {},
   "outputs": [
    {
     "data": {
      "image/png": "[encoded data removed]",
      "text/plain": [
       "<Figure size 640x480 with 1 Axes>"
      ]
     },
     "metadata": {},
     "output_type": "display_data"
    }
   ],
   "source": [
    "if plot_lines:\n",
    "    plt.plot(cus_df['Time'], cus_df['OH2'],label = '$OH_{2}$', color = 'green',  ls='--', linewidth=1.5, alpha=0.5)#, marker=\"o\", markersize=10, markeredgecolor=\"black\", markerfacecolor=\"pink\")\n",
    "    plt.plot(cus_df['Time'], cus_df['OH'], label = '$OH$',     color = 'orange', ls='--', alpha=1.0)#, marker=\"o\", markersize=10, markeredgecolor=\"black\", markerfacecolor=\"red\")\n",
    "    plt.plot(cus_df['Time'], cus_df['O'],  label = '$O$',      color = 'red',    ls='--', linewidth=1.5, alpha=0.5)#,marker=\"o\", markersize=10, markeredgecolor=\"black\", markerfacecolor=\"violet\")\n",
    "    plt.plot(cus_df['Time'], cus_df['OO'], label = '$OO$',     color = 'blue',   ls=\"--\", alpha=0.5)#,marker=\"o\", markersize=10, markeredgecolor=\"black\", markerfacecolor=\"violet\")\n",
    "if plot_bars:\n",
    "    plt.bar(cus_df['Time'], cus_df['OH2'], width=bar_width, label = '$OH_{2}$', color = 'green')#, marker=\"o\", markersize=10, markeredgecolor=\"black\", markerfacecolor=\"pink\")\n",
    "    plt.bar(cus_df['Time'], cus_df['OH'],  width=bar_width, label = '$OH$', bottom=cus_df['OH2'], color = 'orange')#, marker=\"o\", markersize=10, markeredgecolor=\"black\", markerfacecolor=\"red\")\n",
    "    plt.bar(cus_df['Time'], cus_df['O'],   width=bar_width, label = '$O$',  bottom=cus_df['OH2'] + cus_df['OH'], color = 'red')#,marker=\"o\", markersize=10, markeredgecolor=\"black\", markerfacecolor=\"violet\")\n",
    "    plt.bar(cus_df['Time'], cus_df['OO'],  width=bar_width, label = '$OOH$', bottom=cus_df['OH2'] + cus_df['OH'] + cus_df['O'], color = 'blue')#,marker=\"o\", markersize=10, markeredgecolor=\"black\", markerfacecolor=\"violet\")\n",
    "plt.yticks(range(0,25,2))\n",
    "plt.grid(axis='y')\n",
    "plt.xlabel(\"Time in ps\")\n",
    "plt.ylabel(f\"Coverage{chr(37)}\")\n",
    "plt.title(f\"$Cus-site$\")\n",
    "leg = plt.legend(loc='center left', prop={'size': 20}, bbox_to_anchor=(1, 0.5) )\n",
    "leg._legend_box.align = \"left\"\n",
    "if plot_bars:\n",
    "    plt.savefig(f\"./cus_bar_{sim_index}.png\", dpi=300, bbox_inches='tight')\n",
    "if plot_lines:\n",
    "    plt.savefig(f\"./cus_lines_{sim_index}.png\", dpi=300, bbox_inches='tight')"
   ]
  },
  {
   "cell_type": "code",
   "execution_count": null,
   "id": "63163164",
   "metadata": {},
   "outputs": [],
   "source": []
  }
 ],
 "metadata": {
  "kernelspec": {
   "display_name": "wfl",
   "language": "python",
   "name": "python3"
  },
  "language_info": {
   "codemirror_mode": {
    "name": "ipython",
    "version": 3
   },
   "file_extension": ".py",
   "mimetype": "text/x-python",
   "name": "python",
   "nbconvert_exporter": "python",
   "pygments_lexer": "ipython3",
   "version": "3.9.15"
  },
  "vscode": {
   "interpreter": {
    "hash": "05a8d7d30f3daedf3217f8e23c1182341995d718105ad206a633480e607bd92f"
   }
  }
 },
 "nbformat": 4,
 "nbformat_minor": 5
}
